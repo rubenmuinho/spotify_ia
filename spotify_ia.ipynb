{
 "cells": [
  {
   "cell_type": "code",
   "execution_count": 15,
   "metadata": {},
   "outputs": [],
   "source": [
    "import pandas as pd\n",
    "import requests\n",
    "from sklearn.preprocessing import StandardScaler\n",
    "from sklearn.metrics.pairwise import cosine_similarity\n",
    "import ipywidgets as widgets\n",
    "from IPython.display import display, clear_output\n",
    "import base64"
   ]
  },
  {
   "cell_type": "code",
   "execution_count": 16,
   "metadata": {},
   "outputs": [],
   "source": [
    "# Configuración de credenciales de Spotify\n",
    "SPOTIFY_CLIENT_ID = \"dfea28cb19364f0ca5c467a26be6f36d\"\n",
    "SPOTIFY_CLIENT_SECRET = \"7eadcbfdd69c47158d87fe1b17ca53b1\"\n",
    "\n",
    "def get_spotify_token():\n",
    "    url = \"https://accounts.spotify.com/api/token\"\n",
    "    auth_string = f\"{SPOTIFY_CLIENT_ID}:{SPOTIFY_CLIENT_SECRET}\"\n",
    "    auth_bytes = auth_string.encode(\"utf-8\")\n",
    "    auth_base64 = base64.b64encode(auth_bytes).decode(\"utf-8\")\n",
    "\n",
    "    headers = {\n",
    "        \"Authorization\": f\"Basic {auth_base64}\",\n",
    "        \"Content-Type\": \"application/x-www-form-urlencoded\",\n",
    "    }\n",
    "    data = {\"grant_type\": \"client_credentials\"}\n",
    "\n",
    "    response = requests.post(url, headers=headers, data=data)\n",
    "    token = response.json().get(\"access_token\")\n",
    "\n",
    "    if not token:\n",
    "        print(\"⚠️ Error al obtener el token de Spotify:\", response.json())\n",
    "\n",
    "    return token"
   ]
  },
  {
   "cell_type": "code",
   "execution_count": 17,
   "metadata": {},
   "outputs": [],
   "source": [
    "def get_album_cover(track_name, artist):\n",
    "    # Función para obtener la portada del álbum de una canción usando la API de Spotify.\n",
    "    token = get_spotify_token()\n",
    "    if not token:\n",
    "        return None\n",
    "\n",
    "    url = \"https://api.spotify.com/v1/search\"\n",
    "    headers = {\"Authorization\": f\"Bearer {token}\"}\n",
    "    params = {\"q\": f\"track:{track_name} artist:{artist}\", \"type\": \"track\", \"limit\": 1}\n",
    "\n",
    "    response = requests.get(url, headers=headers, params=params)\n",
    "    \n",
    "    if response.status_code != 200:\n",
    "        print(f\"Error al obtener datos de Spotify: {response.status_code} - {response.text}\")\n",
    "        return None\n",
    "\n",
    "    data = response.json()\n",
    "\n",
    "    if \"tracks\" in data and \"items\" in data[\"tracks\"] and len(data[\"tracks\"][\"items\"]) > 0:\n",
    "        return data[\"tracks\"][\"items\"][0][\"album\"][\"images\"][0][\"url\"], data[\"tracks\"][\"items\"][0][\"external_urls\"][\"spotify\"]\n",
    "    \n",
    "    print(f\"No se encontró portada para: {track_name} - {artist}\")\n",
    "    return None, None"
   ]
  },
  {
   "cell_type": "code",
   "execution_count": 18,
   "metadata": {},
   "outputs": [],
   "source": [
    "# Cargar el dataset de Spotify, limpiar valores nulos y ordenar por popularidad.\n",
    "df = pd.read_csv(\"spotify_114k_tracks.csv\")\n",
    "df.dropna(inplace=True)\n",
    "df = df.sort_values(by=\"popularity\", ascending=False)\n",
    "df = df.groupby([\"track_name\", \"artists\"], as_index=False).first()\n",
    "\n",
    "if 'duration_ms' in df.columns:\n",
    "    df[\"duration_s\"] = df[\"duration_ms\"] / 1000\n",
    "    df.drop(columns=[\"duration_ms\"], inplace=True)"
   ]
  },
  {
   "cell_type": "code",
   "execution_count": 19,
   "metadata": {},
   "outputs": [],
   "source": [
    "# Crear una métrica combinada de características musicales\n",
    "df[\"music_intensity\"] = (\n",
    "    (df[\"energy\"] * 0.4) + \n",
    "    (df[\"danceability\"] * 0.3) + \n",
    "    (df[\"valence\"] * 0.2) + \n",
    "    (df[\"acousticness\"] * -0.1) + \n",
    "    (df[\"instrumentalness\"] * -0.2) + \n",
    "    (df[\"speechiness\"] * 0.1)\n",
    ")\n"
   ]
  },
  {
   "cell_type": "code",
   "execution_count": 20,
   "metadata": {},
   "outputs": [],
   "source": [
    "# Normalización de características relevantes\n",
    "features = [\"danceability\", \"energy\", \"loudness\", \"speechiness\", \n",
    "            \"acousticness\", \"instrumentalness\", \"liveness\", \"valence\", \"tempo\"]\n",
    "\n",
    "df[features] = df[features].fillna(df[features].mean())                                                                 \n",
    "scaler = StandardScaler()\n",
    "df_scaled = df.copy()\n",
    "df_scaled[features] = scaler.fit_transform(df[features])\n",
    "\n",
    "df[\"full_name\"] = df[\"artists\"] + \" - \" + df[\"track_name\"]\n",
    "df_scaled[\"full_name\"] = df[\"full_name\"]"
   ]
  },
  {
   "cell_type": "code",
   "execution_count": null,
   "metadata": {},
   "outputs": [],
   "source": [
    "# Crear widgets interactivos\n",
    "search_box = widgets.Text(placeholder=\"Escribe artista o canción...\")\n",
    "results_box = widgets.Output()\n",
    "recommendations_box = widgets.Output()"
   ]
  },
  {
   "cell_type": "code",
   "execution_count": 22,
   "metadata": {},
   "outputs": [],
   "source": [
    "def get_similar_artists(artist_name, max_artists=10):\n",
    "    token = get_spotify_token()\n",
    "    if not token:\n",
    "        return []\n",
    "\n",
    "    # Buscar el artista por nombre\n",
    "    search_url = \"https://api.spotify.com/v1/search\"\n",
    "    headers = {\"Authorization\": f\"Bearer {token}\"}\n",
    "    params = {\"q\": artist_name, \"type\": \"artist\", \"limit\": 1}\n",
    "    response = requests.get(search_url, headers=headers, params=params)\n",
    "\n",
    "    if response.status_code != 200 or not response.json()[\"artists\"][\"items\"]:\n",
    "        print(f\"No se encontró el artista: {artist_name}\")\n",
    "        return []\n",
    "\n",
    "    artist_id = response.json()[\"artists\"][\"items\"][0][\"id\"]\n",
    "\n",
    "    # Obtener artistas relacionados\n",
    "    related_url = f\"https://api.spotify.com/v1/artists/{artist_id}/related-artists\"\n",
    "    related_response = requests.get(related_url, headers=headers)\n",
    "\n",
    "    if related_response.status_code != 200:\n",
    "        print(f\"No se pudieron obtener artistas similares para {artist_name}\")\n",
    "        return []\n",
    "\n",
    "    related_artists = related_response.json()[\"artists\"]\n",
    "    return [artist[\"name\"].lower() for artist in related_artists[:max_artists]]"
   ]
  },
  {
   "cell_type": "code",
   "execution_count": 23,
   "metadata": {},
   "outputs": [],
   "source": [
    "# Recomienda canciones basándose en artistas relacionados, género y características musicales.\n",
    "def recomendar_cancion(cancion_seleccionada):\n",
    "    global df_scaled\n",
    "\n",
    "    cancion_seleccionada_original = cancion_seleccionada.strip()\n",
    "    cancion_seleccionada = cancion_seleccionada_original.lower()\n",
    "\n",
    "    cancion = df_scaled[df_scaled[\"full_name\"].str.lower().str.contains(cancion_seleccionada, regex=False)]\n",
    "    if cancion.empty:\n",
    "        with recommendations_box:\n",
    "            clear_output(wait=True)\n",
    "            print(\"Canción no encontrada en la base de datos.\")\n",
    "        return\n",
    "\n",
    "    cancion = cancion.sort_values(by=\"popularity\", ascending=False).head(1)\n",
    "    cancion_features = cancion[features].values.reshape(1, -1)\n",
    "    artista_principal = cancion[\"artists\"].values[0].split(\",\")[0].strip().lower()\n",
    "    genero_principal = cancion[\"track_genre\"].values[0] if \"track_genre\" in cancion else None\n",
    "\n",
    "    # Obtener artistas similares desde Spotify\n",
    "    artistas_similares = get_similar_artists(artista_principal)\n",
    "\n",
    "    # Si la API no devuelve resultados, buscar en nuestra base de datos\n",
    "    if not artistas_similares:\n",
    "        artistas_similares = df_scaled[df_scaled[\"track_genre\"] == genero_principal][\"artists\"].unique().tolist()\n",
    "\n",
    "    artistas_similares.append(artista_principal)\n",
    "\n",
    "    # Filtrar canciones solo de artistas similares\n",
    "    df_filtrado = df_scaled[df_scaled[\"artists\"].str.lower().apply(\n",
    "        lambda artist_str: any(similar in artist_str for similar in artistas_similares)\n",
    "    )]\n",
    "\n",
    "    # Asegurar que hay suficientes resultados\n",
    "    if df_filtrado.shape[0] < 5 and genero_principal:\n",
    "        df_genero = df_scaled[df_scaled[\"track_genre\"] == genero_principal]\n",
    "        df_filtrado = pd.concat([df_filtrado, df_genero]).drop_duplicates()\n",
    "\n",
    "    df_filtrado = df_filtrado[df_filtrado[\"full_name\"] != cancion[\"full_name\"].values[0]]\n",
    "\n",
    "    if df_filtrado.empty:\n",
    "        with recommendations_box:\n",
    "            clear_output(wait=True)\n",
    "            print(\"No se encontraron suficientes canciones similares.\")\n",
    "        return\n",
    "\n",
    "    # Calcular similitud\n",
    "    similitudes = cosine_similarity(cancion_features, df_filtrado[features].values)\n",
    "    df_filtrado[\"similitud\"] = similitudes[0]\n",
    "\n",
    "    recomendaciones = df_filtrado.sort_values(by=\"similitud\", ascending=False).head(5)\n",
    "\n",
    "    with recommendations_box:\n",
    "        clear_output(wait=True)\n",
    "        print(f\"\\nRecomendaciones para: {cancion_seleccionada_original}\\n\")\n",
    "        \n",
    "        items = []\n",
    "        for _, row in recomendaciones.iterrows():\n",
    "            cover_url, spotify_url = get_album_cover(row[\"track_name\"], row[\"artists\"])\n",
    "            similitud = round(row[\"similitud\"] * 100, 2)\n",
    "            \n",
    "            track_name_cleaned = row['track_name'].replace(\"'\", \"\").replace('\"', '')\n",
    "            song_name = widgets.HTML(f\"<div style='text-align: center; padding-top: 10px; font-weight: bold;'>{track_name_cleaned}</div>\")\n",
    "            \n",
    "            img = widgets.Image(value=requests.get(cover_url).content, format='png', width=180, height=180) if cover_url else widgets.Label(\"Imagen no encontrada\")\n",
    "            \n",
    "            info = widgets.HTML(f\"<div style='text-align: center;'>{row['artists']}<br>Similitud: {similitud}%</div>\")\n",
    "            img_link = widgets.HTML(f\"<a href='{spotify_url}' target='_blank'><img src='{cover_url}' width='180' height='180'></a>\")\n",
    "            \n",
    "            items.append(widgets.VBox([img_link, song_name, info], layout=widgets.Layout(margin='10px')))\n",
    "\n",
    "        display(widgets.HBox(items, layout=widgets.Layout(justify_content='center')))"
   ]
  },
  {
   "cell_type": "code",
   "execution_count": 24,
   "metadata": {},
   "outputs": [],
   "source": [
    "def actualizar_resultados(cambio):\n",
    "    texto = cambio[\"new\"].strip().lower()\n",
    "    \n",
    "    with results_box:\n",
    "        clear_output(wait=True)\n",
    "        if len(texto) > 1:\n",
    "            palabras = texto.split()\n",
    "            resultados = df[df[\"full_name\"].apply(lambda x: all(palabra in x.lower() for palabra in palabras))]\n",
    "            if not resultados.empty:\n",
    "                botones = [widgets.Button(description=res, layout=widgets.Layout(width=\"100%\")) \n",
    "                           for res in resultados[\"full_name\"].head(10)]\n",
    "                for btn in botones:\n",
    "                    btn.on_click(lambda b, descripcion=btn.description: recomendar_cancion(descripcion))\n",
    "                display(widgets.VBox(botones))\n",
    "            else:\n",
    "                print(\"No se encontraron resultados.\")\n",
    "        else:\n",
    "            print(\"Por favor, ingresa más de una palabra para la búsqueda.\")"
   ]
  },
  {
   "cell_type": "code",
   "execution_count": 25,
   "metadata": {},
   "outputs": [],
   "source": [
    "search_box.observe(actualizar_resultados, names=\"value\")"
   ]
  },
  {
   "cell_type": "code",
   "execution_count": 26,
   "metadata": {},
   "outputs": [
    {
     "data": {
      "application/vnd.jupyter.widget-view+json": {
       "model_id": "67f41e053db245609c0326f55b9050d2",
       "version_major": 2,
       "version_minor": 0
      },
      "text/plain": [
       "Text(value='', placeholder='Escribe artista o canción...')"
      ]
     },
     "metadata": {},
     "output_type": "display_data"
    },
    {
     "data": {
      "application/vnd.jupyter.widget-view+json": {
       "model_id": "881fa238f7ae40299f1e2486ae93ca11",
       "version_major": 2,
       "version_minor": 0
      },
      "text/plain": [
       "Output()"
      ]
     },
     "metadata": {},
     "output_type": "display_data"
    },
    {
     "data": {
      "application/vnd.jupyter.widget-view+json": {
       "model_id": "e5bd59af1ba14e2d8cfe3a0d3e599090",
       "version_major": 2,
       "version_minor": 0
      },
      "text/plain": [
       "Output()"
      ]
     },
     "metadata": {},
     "output_type": "display_data"
    }
   ],
   "source": [
    "# Mostrar widgets\n",
    "display(search_box, results_box, recommendations_box)"
   ]
  }
 ],
 "metadata": {
  "kernelspec": {
   "display_name": "venv",
   "language": "python",
   "name": "python3"
  },
  "language_info": {
   "codemirror_mode": {
    "name": "ipython",
    "version": 3
   },
   "file_extension": ".py",
   "mimetype": "text/x-python",
   "name": "python",
   "nbconvert_exporter": "python",
   "pygments_lexer": "ipython3",
   "version": "3.13.1"
  }
 },
 "nbformat": 4,
 "nbformat_minor": 2
}
